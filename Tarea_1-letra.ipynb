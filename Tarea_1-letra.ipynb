{
 "cells": [
  {
   "cell_type": "markdown",
   "metadata": {},
   "source": [
    "# Tarea 1 - Taller de Deep Learning\n",
    "\n",
    "**Fecha de entrega: 19/10/2025**  \n",
    "**Puntaje máximo: 15**\n",
    "\n",
    "## Introducción\n",
    "\n",
    "El objetivo de esta tarea es evaluar su conocimiento sobre Deep Learning aplicado a un caso de uso real. En particular, vamos a evaluar la performance de sus modelos en una tarea de clasificación de escenas.\n",
    "\n",
    "**Dataset**\n",
    "\n",
    "El dataset a ser utilizado es **Imagenette**, una versión simplificada de ImageNet que consiste de 10 clases. Pueden encontrar más información y descargarlo en el siguiente [link](https://pytorch.org/vision/main/generated/torchvision.datasets.Imagenette.html).\n",
    "\n",
    "**Tarea**\n",
    "\n",
    "Tienen total libertad sobre cómo implementar y resolver el problema así como las técnicas y herramientas que quieran usar. Recomendamos usar Colab por simplicidad, pero pueden implementarlo en sus máquinas si así lo prefieren. La única limitante es que esperamos que la entrega sea en formato .ipynb (Jupyter Notebook) **con las celdas ya ejecutadas**.\n",
    "\n",
    "**Restricciones**\n",
    "\n",
    "- No se permite utilizar models pre-entrenados (cada modelo debe ser implementado desde cero)\n",
    "- Se requiere que utilicen al menos 2 técnicas de **regularización** (Dropout, BatchNorm, Data Augmentation, etc.)\n",
    "- Se requiere realizar un **análisis de los datos**, que incluya el balanceo de clases y tomar decisiones en base al análisis realizado.\n",
    "- Las decisiones tomadas sobre el preprocesamiento de las imágenes (transforms, augmentation, etc.) deben ser resultado de la exploración del dataset y estar propiamente justificadas (una sección de exploración en el notebook con comentarios es suficiente).\n",
    "\n",
    "**Reporte**\n",
    "\n",
    "En particular, les pedimos que reporten: accuracy, precision, recall y f1.\n",
    "También se espera poder observar la evolución del modelo (en los datos de train y validación) a medida que se entrena (logs, gráficas, etc).\n",
    "\n",
    "**Evidencia de Experimentos**\n",
    "\n",
    "Además, deben presentar evidencia de correr experimentos usando [Weights & Biases (wandb)](https://wandb.ai/). Esto incluye:\n",
    "- Registros detallados de los experimentos.\n",
    "- Gráficas y logs de entrenamiento.\n",
    "- Comparaciones entre diferentes configuraciones de modelos."
   ]
  }
 ],
 "metadata": {
  "language_info": {
   "name": "python"
  }
 },
 "nbformat": 4,
 "nbformat_minor": 2
}
